{
 "cells": [
  {
   "cell_type": "code",
   "execution_count": 1,
   "metadata": {},
   "outputs": [],
   "source": [
    "import sys\n",
    "sys.path.append(\"functions/\")"
   ]
  },
  {
   "cell_type": "code",
   "execution_count": 2,
   "metadata": {},
   "outputs": [],
   "source": [
    "from datastore import DataStore\n",
    "from searchgrid import SearchGrid\n",
    "from crossvalidate import CrossValidate\n",
    "from sklearn.linear_model import SGDClassifier\n",
    "from sklearn.metrics import f1_score\n",
    "from sklearn.metrics import roc_auc_score\n",
    "from sklearn.metrics import balanced_accuracy_score\n",
    "from sampleddatastore import SampledDataStore"
   ]
  },
  {
   "cell_type": "code",
   "execution_count": 3,
   "metadata": {},
   "outputs": [],
   "source": [
    "#Load object for CrossValidation\n",
    "crossvalidate = CrossValidate()\n",
    "\n",
    "#Load object for GridSearchCV\n",
    "GridSpace = SearchGrid()"
   ]
  },
  {
   "cell_type": "markdown",
   "metadata": {},
   "source": [
    "Regular SVM doesn't scale well to our particular problem (due to the size of the dataset and limited resources available). So, we will use Stochastic Gradient Descent with hinge loss (equates to SVM) instead. Let's try with the default parameters first:"
   ]
  },
  {
   "cell_type": "code",
   "execution_count": 4,
   "metadata": {},
   "outputs": [
    {
     "name": "stdout",
     "output_type": "stream",
     "text": [
      "F1 score is: 0.07898320472083523\n",
      "ROC-AUC is: 0.5217944162821552\n"
     ]
    }
   ],
   "source": [
    "classifier = SGDClassifier(loss=\"hinge\",random_state=42)\n",
    "crossvalidate.setClassifier(classifier)\n",
    "crossvalidate.run()\n",
    "f1, roc = crossvalidate.getMetrics().getScores()\n",
    "print(f\"F1 score is: {f1}\")\n",
    "print(f\"ROC-AUC is: {roc}\")"
   ]
  },
  {
   "cell_type": "markdown",
   "metadata": {},
   "source": [
    "That's the baseline. Let's try assigning weights to class. As with logistic regression, we will start off with balanced class weights."
   ]
  },
  {
   "cell_type": "code",
   "execution_count": 4,
   "metadata": {},
   "outputs": [
    {
     "name": "stdout",
     "output_type": "stream",
     "text": [
      "F1 score is: 0.018119683335791906\n",
      "ROC-AUC is: 0.7924024522725649\n"
     ]
    }
   ],
   "source": [
    "classifier = SGDClassifier(loss=\"hinge\", random_state=42, class_weight='balanced')\n",
    "crossvalidate.setClassifier(classifier)\n",
    "crossvalidate.run()\n",
    "f1, roc = crossvalidate.getMetrics().getScores()\n",
    "print(f\"F1 score is: {f1}\")\n",
    "print(f\"ROC-AUC is: {roc}\")"
   ]
  },
  {
   "cell_type": "markdown",
   "metadata": {},
   "source": [
    "Considering our results with Logistic Regression, we can hypothesize that 1:10 non gilded to gilded ratio produces the best result, but let's test it out:"
   ]
  },
  {
   "cell_type": "code",
   "execution_count": 5,
   "metadata": {
    "scrolled": true
   },
   "outputs": [
    {
     "name": "stdout",
     "output_type": "stream",
     "text": [
      "F1 score is: 0.251433089543388\n",
      "ROC-AUC is: 0.6586455337266552\n",
      "Best Parameters: {'class_weight': {0: 1, 1: 10}}\n"
     ]
    }
   ],
   "source": [
    "parameters = {'class_weight':[{0:1,1:1}, {0:1,1:10}, {0:1,1:100}, {0:10,1:1}]}\n",
    "classifier = SGDClassifier(loss=\"hinge\", random_state=42, max_iter=2000)\n",
    "GridSpace.setGridParameters(parameters)\n",
    "GridSpace.setClassifier(classifier)\n",
    "GridSpace.run()\n",
    "parameters, scores = GridSpace.getMetrics().getBestResults()\n",
    "f1 = scores[0]\n",
    "roc = scores[1]\n",
    "print(f\"F1 score is: {f1}\")\n",
    "print(f\"ROC-AUC is: {roc}\")\n",
    "print(f\"Best Parameters: {parameters}\")"
   ]
  },
  {
   "cell_type": "markdown",
   "metadata": {},
   "source": [
    "Worse F1 score (0.25 vs 0.30) compared to our results from weighted Logistic regression (same best weights) but comparable ROC-AUC score (0.66 vs 0.65).\n",
    "\n",
    "SGD uses 2000 iterations (due to no convergence in the next block; just to check if we can get better results).\n",
    "\n",
    "This may suggest that SVM is not a good model for our problem. However before we make any conclusions, let's \n",
    "fit the model with several other values for hyperparameters (such as using l1 norm or elastic net). We will also experiment with different values for alpha (regularization strength).\n",
    "\n",
    "Note: l1_ratio is only used for elasticnet."
   ]
  },
  {
   "cell_type": "code",
   "execution_count": 6,
   "metadata": {
    "scrolled": true
   },
   "outputs": [
    {
     "name": "stderr",
     "output_type": "stream",
     "text": [
      "/share/apps/rc/software/Anaconda3/2020.02/lib/python3.7/site-packages/sklearn/linear_model/_stochastic_gradient.py:557: ConvergenceWarning: Maximum number of iteration reached before convergence. Consider increasing max_iter to improve the fit.\n",
      "  ConvergenceWarning)\n",
      "/share/apps/rc/software/Anaconda3/2020.02/lib/python3.7/site-packages/sklearn/linear_model/_stochastic_gradient.py:557: ConvergenceWarning: Maximum number of iteration reached before convergence. Consider increasing max_iter to improve the fit.\n",
      "  ConvergenceWarning)\n"
     ]
    },
    {
     "name": "stdout",
     "output_type": "stream",
     "text": [
      "F1 score is: 0.2941324603374465\n",
      "ROC-AUC is: 0.6461119840565462\n",
      "Best Parameters: {'alpha': 0.01, 'class_weight': {0: 1, 1: 10}, 'l1_ratio': 0.15, 'penalty': 'l2'}\n"
     ]
    }
   ],
   "source": [
    "parameters = {'penalty':['l2', 'l1', 'elasticnet'], 'l1_ratio': [0.15, 0.30], \n",
    "              'alpha' : [0.0001, 0.001, 0.01, 0.1] , 'class_weight':[{0:1,1:10}]}\n",
    "classifier = SGDClassifier(loss=\"hinge\", random_state=42, max_iter=2000)\n",
    "GridSpace.setGridParameters(parameters)\n",
    "GridSpace.setClassifier(classifier)\n",
    "GridSpace.run()\n",
    "parameters, scores = GridSpace.getMetrics().getBestResults()\n",
    "f1 = scores[0]\n",
    "roc = scores[1]\n",
    "print(f\"F1 score is: {f1}\")\n",
    "print(f\"ROC-AUC is: {roc}\")\n",
    "print(f\"Best Parameters: {parameters}\")"
   ]
  },
  {
   "cell_type": "markdown",
   "metadata": {},
   "source": [
    "We can use these hyperparameter values for sampling methods; we only need to set the class weight and alpha as SGD uses l2 norm (penalty) as default. For comparison, we will also run the models with default alpha value (0.001).\n",
    "\n",
    "As with Logistic Regression, we will try experimenting with different oversampling techniques. Let's go try RandomOverSampler, SMOTE and ADASYN first (0.1 sampling rate; augmenting gilded class to be roughly 10% of total).\n",
    "\n",
    "RandomOverSampler duplicates samples belonging to minority class (gilded) while SMOTE and ADASYN creates synthentic samples that are similar to true ones.\n",
    "\n",
    "We can load up up Sampling data using SampledDataStore."
   ]
  },
  {
   "cell_type": "code",
   "execution_count": 4,
   "metadata": {},
   "outputs": [],
   "source": [
    "SampledDataStore = SampledDataStore()\n",
    "SampledDataStore.initializeSamplers()"
   ]
  },
  {
   "cell_type": "code",
   "execution_count": 6,
   "metadata": {},
   "outputs": [
    {
     "name": "stdout",
     "output_type": "stream",
     "text": [
      "Random OverSampler, 0.001:\n",
      "F1 score is: 0.7301899218218899\n",
      "ROC-AUC is: 0.8278357489175485\n",
      "\n",
      "\n",
      "Random OverSampler, 0.01:\n",
      "F1 score is: 0.7290762216545105\n",
      "ROC-AUC is: 0.8203429769984393\n",
      "\n",
      "\n",
      "SMOTE, 0.001:\n",
      "F1 score is: 0.7237177851492728\n",
      "ROC-AUC is: 0.8242999468971522\n",
      "\n",
      "\n",
      "SMOTE, 0.01:\n",
      "F1 score is: 0.7205503573713654\n",
      "ROC-AUC is: 0.8150874355518173\n",
      "\n",
      "\n",
      "ADASYN, 0.001:\n",
      "F1 score is: 0.696385671963372\n",
      "ROC-AUC is: 0.8075312297638717\n",
      "\n",
      "\n",
      "ADASYN, 0.01:\n",
      "F1 score is: 0.6887483633729838\n",
      "ROC-AUC is: 0.7952816823356728\n",
      "\n",
      "\n"
     ]
    }
   ],
   "source": [
    "random = SampledDataStore.getRandomSampled\n",
    "smote = SampledDataStore.getSMOTESampled\n",
    "ada = SampledDataStore.getADASYNSampled\n",
    "samplers = [random, smote, ada]\n",
    "sampler_names = [\"Random OverSampler\", \"SMOTE\", \"ADASYN\"]\n",
    "alpha_vals = [0.001, 0.01]\n",
    "\n",
    "for i in range(len(samplers)):\n",
    "    X_resampled, y_resampled = samplers[i]()\n",
    "    crossvalidate.getDataStore().setxTrain(X_resampled)\n",
    "    crossvalidate.getDataStore().setyTrain(y_resampled)\n",
    "    assert len(X_resampled) == len(y_resampled)\n",
    "    for j in range(len(alpha_vals)):\n",
    "        classifier = SGDClassifier(loss=\"hinge\", class_weight={0: 1, 1: 10}, alpha=alpha_vals[j], random_state=42)\n",
    "        crossvalidate.setClassifier(classifier)\n",
    "        crossvalidate.run()\n",
    "        f1, roc = crossvalidate.getMetrics().getScores()\n",
    "        print(f\"{sampler_names[i]}, {alpha_vals[j]}:\")\n",
    "        print(f\"F1 score is: {f1}\")\n",
    "        print(f\"ROC-AUC is: {roc}\")\n",
    "        print(\"\\n\")\n",
    "\n",
    "crossvalidate.getDataStore().revertToOriginal()"
   ]
  },
  {
   "cell_type": "markdown",
   "metadata": {},
   "source": [
    "Not as big of a difference between 0.001 and 0.01 as reg strength.\n",
    "\n",
    "SMOTE can generate noisy samples (ex: when classes cannot be well separated). In such cases, Imbalanced learn recommends combining oversampling with undersampling the majority class. This can be done through SMOTETomek and SMOTEENN.\n",
    "\n",
    "Ref: https://imbalanced-learn.readthedocs.io/en/stable/auto_examples/combine/plot_comparison_combine.html"
   ]
  },
  {
   "cell_type": "code",
   "execution_count": 7,
   "metadata": {},
   "outputs": [
    {
     "name": "stdout",
     "output_type": "stream",
     "text": [
      "SMOTE TOMEK, 0.001:\n",
      "F1 score is: 0.72427746895832\n",
      "ROC-AUC is: 0.824775953000174\n",
      "\n",
      "\n",
      "SMOTE TOMEK, 0.01:\n",
      "F1 score is: 0.7212362485420306\n",
      "ROC-AUC is: 0.8156752106861175\n",
      "\n",
      "\n",
      "SMOTE ENN, 0.001:\n",
      "F1 score is: 0.7594824714797236\n",
      "ROC-AUC is: 0.8581641569754759\n",
      "\n",
      "\n",
      "SMOTE ENN, 0.01:\n",
      "F1 score is: 0.7514495425143278\n",
      "ROC-AUC is: 0.8330756751889987\n",
      "\n",
      "\n"
     ]
    }
   ],
   "source": [
    "smote_tomek = SampledDataStore.getSMOTETOMEKSampled\n",
    "smote_enn = SampledDataStore.getSMOTEENNSampled\n",
    "samplers = [smote_tomek, smote_enn]\n",
    "sampler_names = [\"SMOTE TOMEK\", \"SMOTE ENN\"]\n",
    "alpha_vals = [0.001, 0.01]      \n",
    "\n",
    "for i in range(len(samplers)):\n",
    "    X_resampled, y_resampled = samplers[i]()\n",
    "    crossvalidate.getDataStore().setxTrain(X_resampled)\n",
    "    crossvalidate.getDataStore().setyTrain(y_resampled)\n",
    "    assert len(X_resampled) == len(y_resampled)\n",
    "    for j in range(len(alpha_vals)):\n",
    "        classifier = SGDClassifier(loss=\"hinge\", class_weight={0: 1, 1: 10}, alpha=alpha_vals[j], random_state=42)\n",
    "        crossvalidate.setClassifier(classifier)\n",
    "        crossvalidate.run()\n",
    "        f1, roc = crossvalidate.getMetrics().getScores()\n",
    "        print(f\"{sampler_names[i]}, {alpha_vals[j]}:\")\n",
    "        print(f\"F1 score is: {f1}\")\n",
    "        print(f\"ROC-AUC is: {roc}\")\n",
    "        print(\"\\n\")\n",
    "\n",
    "crossvalidate.getDataStore().revertToOriginal()"
   ]
  },
  {
   "cell_type": "markdown",
   "metadata": {},
   "source": [
    "As with Logistic regression, SMOTEENN and RandomOverSampler produces the best results (though the results are much closer with SGD; note that SMOTE results are very close as well). Let's try evaluating on our test set (for both f1 score and accuracy) with 0.001 as the regularization strength (default value)."
   ]
  },
  {
   "cell_type": "code",
   "execution_count": 9,
   "metadata": {},
   "outputs": [
    {
     "name": "stdout",
     "output_type": "stream",
     "text": [
      "Random OverSampler on test set:\n",
      "F1 score: 0.12220566318926976\n",
      "ROC_AUC score: 0.8204287454870794\n",
      "Balanced accuracy score: 0.8204287454870794\n",
      "\n",
      "\n",
      "SMOTE on test set:\n",
      "F1 score: 0.1163039600428113\n",
      "ROC_AUC score: 0.8179510423630978\n",
      "Balanced accuracy score: 0.8179510423630978\n",
      "\n",
      "\n",
      "ADASYN on test set:\n",
      "F1 score: 0.11220673240394423\n",
      "ROC_AUC score: 0.8214348128252625\n",
      "Balanced accuracy score: 0.8214348128252624\n",
      "\n",
      "\n",
      "SMOTE TOMEK on test set:\n",
      "F1 score: 0.11638700464119958\n",
      "ROC_AUC score: 0.8179588702130223\n",
      "Balanced accuracy score: 0.8179588702130223\n",
      "\n",
      "\n",
      "SMOTE ENN on test set:\n",
      "F1 score: 0.08817733990147783\n",
      "ROC_AUC score: 0.8452223755411945\n",
      "Balanced accuracy score: 0.8452223755411944\n",
      "\n",
      "\n"
     ]
    }
   ],
   "source": [
    "random = SampledDataStore.getRandomSampled\n",
    "smote = SampledDataStore.getSMOTESampled\n",
    "ada = SampledDataStore.getADASYNSampled\n",
    "smote_tomek = SampledDataStore.getSMOTETOMEKSampled\n",
    "smote_enn = SampledDataStore.getSMOTEENNSampled\n",
    "samplers = [random, smote, ada, smote_tomek, smote_enn]\n",
    "sampler_names = [\"Random OverSampler\", \"SMOTE\", \"ADASYN\", \"SMOTE TOMEK\", \"SMOTE ENN\"]\n",
    "\n",
    "classifier = SGDClassifier(loss=\"hinge\", random_state=42, max_iter=2000)\n",
    "\n",
    "for i in range(len(samplers)):\n",
    "    parameters = {'class_weight':[{0:1,1:10}]}\n",
    "    X_resampled, y_resampled = samplers[i]()\n",
    "    GridSpace.getDataStore().setxTrain(X_resampled)\n",
    "    GridSpace.getDataStore().setyTrain(y_resampled) \n",
    "    GridSpace.setGridParameters(parameters)\n",
    "    GridSpace.setClassifier(classifier)\n",
    "    grid = GridSpace.run()\n",
    "    y_preds = grid.predict(GridSpace.getDataStore().getxTest())\n",
    "    print(f\"{sampler_names[i]} on test set:\")\n",
    "    print(f\"F1 score: {f1_score(GridSpace.getDataStore().getyTest(), y_preds)}\")\n",
    "    print(f\"ROC_AUC score: {roc_auc_score(GridSpace.getDataStore().getyTest(), y_preds)}\")\n",
    "    print(f\"Balanced accuracy score: {balanced_accuracy_score(GridSpace.getDataStore().getyTest(), y_preds)}\")\n",
    "    print(\"\\n\")    "
   ]
  },
  {
   "cell_type": "markdown",
   "metadata": {},
   "source": [
    "All three methods have achieved better F1 scores and comparable ROC_AUC/balanced accuracy scores than Logistic Regression (0.08) with no thresholding. \n",
    "\n",
    "Better F1 score was achieved with thresholding, however that is neither suitable or a fair comparison (as reflected in the roc_auc value; we can hypothesize that the model simply predicted less samples to be positive/gilded due to larger threshold - resulting in lower number of true and false positives and a result, smaller roc_auc value).\n",
    "\n",
    "We will try Decision Trees next."
   ]
  }
 ],
 "metadata": {
  "kernelspec": {
   "display_name": "Python 3",
   "language": "python",
   "name": "python3"
  },
  "language_info": {
   "codemirror_mode": {
    "name": "ipython",
    "version": 3
   },
   "file_extension": ".py",
   "mimetype": "text/x-python",
   "name": "python",
   "nbconvert_exporter": "python",
   "pygments_lexer": "ipython3",
   "version": "3.7.6"
  }
 },
 "nbformat": 4,
 "nbformat_minor": 4
}
