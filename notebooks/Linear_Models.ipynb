{
 "cells": [
  {
   "cell_type": "code",
   "execution_count": 1,
   "metadata": {},
   "outputs": [],
   "source": [
    "import sys\n",
    "sys.path.append(\"functions/\")"
   ]
  },
  {
   "cell_type": "code",
   "execution_count": 2,
   "metadata": {},
   "outputs": [],
   "source": [
    "from datastore import DataStore\n",
    "from searchgrid import SearchGrid\n",
    "from crossvalidate import CrossValidate\n",
    "from sklearn.dummy import DummyClassifier\n",
    "from sklearn.metrics import f1_score\n",
    "from sklearn.metrics import roc_auc_score\n",
    "from sklearn.linear_model import LogisticRegression\n",
    "from sklearn.metrics import balanced_accuracy_score\n",
    "from sampleddatastore import SampledDataStore"
   ]
  },
  {
   "cell_type": "markdown",
   "metadata": {},
   "source": [
    "First, we will load up our predefined functions for loading the data and running the model.\n",
    "\n",
    "Due to the high class imbalance, F1 score is a much better metric to use than just accuracy (since 99% of the data belongs to class 0). We will also have ROC-AUC for comparison.\n",
    "\n",
    "We fetch the true positives, false positives and false negatives to calculate the f1 score across all folds rather than using the builtin functionality. This is because the averaged f1 score returned by Sklearn is slighly biased for imbalanced class problems (for cross validation). This doesn't matter when evaluating the test set. All the relevant functions are in their respective python files (same folder as the notebook).\n",
    "\n",
    "Reference: https://www.hpl.hp.com/techreports/2009/HPL-2009-359.pdf"
   ]
  },
  {
   "cell_type": "code",
   "execution_count": 3,
   "metadata": {},
   "outputs": [],
   "source": [
    "#Load object for CrossValidation\n",
    "crossvalidate = CrossValidate()\n",
    "\n",
    "#Load object for GridSearchCV\n",
    "GridSpace = SearchGrid()"
   ]
  },
  {
   "cell_type": "markdown",
   "metadata": {},
   "source": [
    "Let's establish a baseline model that simply predicts the minority class:"
   ]
  },
  {
   "cell_type": "code",
   "execution_count": 4,
   "metadata": {},
   "outputs": [
    {
     "name": "stdout",
     "output_type": "stream",
     "text": [
      "F1 score is: 0.0038545073871373366\n",
      "ROC-AUC is: 0.5\n"
     ]
    }
   ],
   "source": [
    "classifier = DummyClassifier(strategy=\"constant\", constant=1)\n",
    "crossvalidate.setClassifier(classifier)\n",
    "crossvalidate.run()\n",
    "f1, roc = crossvalidate.getMetrics().getScores()\n",
    "print(f\"F1 score is: {f1}\")\n",
    "print(f\"ROC-AUC is: {roc}\")"
   ]
  },
  {
   "cell_type": "markdown",
   "metadata": {},
   "source": [
    "A good model is one that can perform better than the baseline, in terms of F1 Score. Anything below is worse than a model that simply predicts minority class.\n",
    "\n",
    "Note that 0.5 ROC-AUC score indicates that it's a random classifier."
   ]
  },
  {
   "cell_type": "code",
   "execution_count": 5,
   "metadata": {},
   "outputs": [
    {
     "name": "stdout",
     "output_type": "stream",
     "text": [
      "F1 score is: 0.15532286212914484\n",
      "ROC-AUC is: 0.5462118916903937\n"
     ]
    }
   ],
   "source": [
    "classifier = LogisticRegression()\n",
    "crossvalidate.setClassifier(classifier)\n",
    "crossvalidate.run()\n",
    "f1, roc = crossvalidate.getMetrics().getScores()\n",
    "print(f\"F1 score is: {f1}\")\n",
    "print(f\"ROC-AUC is: {roc}\")"
   ]
  },
  {
   "cell_type": "markdown",
   "metadata": {},
   "source": [
    "Looks like it's slightly better than a random classifier; this means that our model is learning some relationships for the underlying data, albeit small.\n",
    "\n",
    "The low score is to expected, especially given the class imbalance. Let's try using the class weight functionality that assigns weights to each class based on their frequency."
   ]
  },
  {
   "cell_type": "code",
   "execution_count": 6,
   "metadata": {},
   "outputs": [
    {
     "name": "stdout",
     "output_type": "stream",
     "text": [
      "F1 score is: 0.14040146390151936\n",
      "ROC-AUC is: 0.8218717660393189\n"
     ]
    }
   ],
   "source": [
    "classifier = LogisticRegression(class_weight='balanced')\n",
    "crossvalidate.setClassifier(classifier)\n",
    "crossvalidate.run()\n",
    "f1, roc = crossvalidate.getMetrics().getScores()\n",
    "print(f\"F1 score is: {f1}\")\n",
    "print(f\"ROC-AUC is: {roc}\")"
   ]
  },
  {
   "cell_type": "markdown",
   "metadata": {},
   "source": [
    "Looks like the balanced class weight performs worse in terms of f1 score (probably because it results in a lot more false positives).\n",
    "\n",
    "Let's test different parameters using GridSearchCV. We will be using our custom objects."
   ]
  },
  {
   "cell_type": "code",
   "execution_count": 7,
   "metadata": {},
   "outputs": [
    {
     "name": "stdout",
     "output_type": "stream",
     "text": [
      "F1 score is: 0.28378378378378377\n",
      "ROC-AUC is: 0.6413425931373595\n",
      "Best Parameters: {'class_weight': {0: 1, 1: 10}}\n"
     ]
    }
   ],
   "source": [
    "parameters = {'class_weight':[{0:1,1:1}, {0:1,1:10}, {0:1,1:100}, {0:10,1:1}]}\n",
    "GridSpace.setGridParameters(parameters)\n",
    "GridSpace.setClassifier(LogisticRegression())\n",
    "GridSpace.run()\n",
    "parameters, scores = GridSpace.getMetrics().getBestResults()\n",
    "f1 = scores[0]\n",
    "roc = scores[1]\n",
    "print(f\"F1 score is: {f1}\")\n",
    "print(f\"ROC-AUC is: {roc}\")\n",
    "print(f\"Best Parameters: {parameters}\")"
   ]
  },
  {
   "cell_type": "markdown",
   "metadata": {},
   "source": [
    "We are making progress, but can we do even better?\n",
    "\n",
    "Adjusting the weights were not enough, we will have to try different sampling techniques. Imbalanced-learn library will come in handy here.\n",
    "\n",
    "We will start with RandomOverSampler to duplicates records from the minority class. We will use a sampling ratio of 0.1 (i.e. increasing gilded class to ~10%).\n",
    "\n",
    "Read more: https://imbalanced-learn.readthedocs.io/en/stable/over_sampling.html#a-practical-guide"
   ]
  },
  {
   "cell_type": "code",
   "execution_count": 8,
   "metadata": {},
   "outputs": [
    {
     "name": "stdout",
     "output_type": "stream",
     "text": [
      "Resampling and Saving Data: RandomSample\n",
      "Resampling and Saving Data: SMOTE\n",
      "Resampling and Saving Data: ADASYN\n",
      "Resampling and Saving Data: SMOTETomek\n",
      "Resampling and Saving Data: SMOTEEnn\n",
      "Loading Sampling Data...\n"
     ]
    }
   ],
   "source": [
    "SampledDataStore = SampledDataStore()\n",
    "SampledDataStore.initializeSamplers()"
   ]
  },
  {
   "cell_type": "code",
   "execution_count": 10,
   "metadata": {},
   "outputs": [
    {
     "name": "stdout",
     "output_type": "stream",
     "text": [
      "Random Over Sampling:\n",
      "F1 score is: 0.7297813462213041\n",
      "ROC-AUC is: 0.8224302218282359\n"
     ]
    }
   ],
   "source": [
    "#Using RandomOverSampler to duplicate records belonging to class 1 (gilded)\n",
    "random = SampledDataStore.getRandomSampled\n",
    "\n",
    "X_resampled, y_resampled = random()\n",
    "classifier = LogisticRegression(class_weight={0: 1, 1: 10})\n",
    "crossvalidate.getDataStore().setxTrain(X_resampled)\n",
    "crossvalidate.getDataStore().setyTrain(y_resampled)\n",
    "crossvalidate.setClassifier(classifier)\n",
    "crossvalidate.run()\n",
    "f1, roc = crossvalidate.getMetrics().getScores()\n",
    "print(\"Random Over Sampling:\")\n",
    "print(f\"F1 score is: {f1}\")\n",
    "print(f\"ROC-AUC is: {roc}\")\n",
    "\n",
    "crossvalidate.getDataStore().revertToOriginal()"
   ]
  },
  {
   "cell_type": "markdown",
   "metadata": {},
   "source": [
    "We can also generate new samples with SMOTE and ADASYN based on existing samples. We will keep the sampling ratio the same for comparison."
   ]
  },
  {
   "cell_type": "code",
   "execution_count": 11,
   "metadata": {},
   "outputs": [
    {
     "name": "stdout",
     "output_type": "stream",
     "text": [
      "SMOTE: \n",
      "F1 score is: 0.7275005987957244\n",
      "ROC-AUC is: 0.8211875770559016\n",
      "\n",
      "\n",
      "ADASYN: \n",
      "F1 score is: 0.7039175165101756\n",
      "ROC-AUC is: 0.8081044664836933\n",
      "\n",
      "\n"
     ]
    }
   ],
   "source": [
    "smote = SampledDataStore.getSMOTESampled\n",
    "ada = SampledDataStore.getADASYNSampled\n",
    "samplers = [smote, ada]\n",
    "sampler_names = [\"SMOTE\", \"ADASYN\"]\n",
    "\n",
    "for i in range(len(samplers)):\n",
    "    X_resampled, y_resampled = samplers[i]()\n",
    "    crossvalidate.getDataStore().setxTrain(X_resampled)\n",
    "    crossvalidate.getDataStore().setyTrain(y_resampled)\n",
    "    classifier = LogisticRegression(class_weight={0: 1, 1: 10})\n",
    "    crossvalidate.setClassifier(classifier)\n",
    "    crossvalidate.run()\n",
    "    f1, roc = crossvalidate.getMetrics().getScores()\n",
    "    print(f\"{sampler_names[i]}: \")\n",
    "    print(f\"F1 score is: {f1}\")\n",
    "    print(f\"ROC-AUC is: {roc}\")\n",
    "    print(\"\\n\")\n",
    "        \n",
    "crossvalidate.getDataStore().revertToOriginal()"
   ]
  },
  {
   "cell_type": "markdown",
   "metadata": {},
   "source": [
    "Imbalanced learn also recommends combining oversampling with undersampling the majority class.\n",
    "\n",
    "Ref: https://imbalanced-learn.readthedocs.io/en/stable/auto_examples/combine/plot_comparison_combine.html\n",
    "\n",
    "SMOTE can generate noisy samples (ex: when classes cannot be well separated), undersampling allows to clean the noisy data."
   ]
  },
  {
   "cell_type": "code",
   "execution_count": 12,
   "metadata": {},
   "outputs": [
    {
     "name": "stdout",
     "output_type": "stream",
     "text": [
      "SMOTE TOMEK: \n",
      "F1 score is: 0.7318982387475538\n",
      "ROC-AUC is: 0.8243926252502568\n",
      "\n",
      "\n",
      "SMOTE ENN: \n",
      "F1 score is: 0.774218448475492\n",
      "ROC-AUC is: 0.8593981574703357\n",
      "\n",
      "\n"
     ]
    }
   ],
   "source": [
    "smote_tomek = SampledDataStore.getSMOTETOMEKSampled\n",
    "smote_enn = SampledDataStore.getSMOTEENNSampled\n",
    "samplers = [smote_tomek, smote_enn]\n",
    "sampler_names = [\"SMOTE TOMEK\", \"SMOTE ENN\"]\n",
    "\n",
    "for i in range(len(samplers)):\n",
    "    X_resampled, y_resampled = samplers[i]()\n",
    "    crossvalidate.getDataStore().setxTrain(X_resampled)\n",
    "    crossvalidate.getDataStore().setyTrain(y_resampled)\n",
    "    classifier = LogisticRegression(class_weight={0: 1, 1: 10})\n",
    "    crossvalidate.setClassifier(classifier)\n",
    "    crossvalidate.run()\n",
    "    f1, roc = crossvalidate.getMetrics().getScores()\n",
    "    print(f\"{sampler_names[i]}: \")\n",
    "    print(f\"F1 score is: {f1}\")\n",
    "    print(f\"ROC-AUC is: {roc}\")\n",
    "    print(\"\\n\")\n",
    "        \n",
    "crossvalidate.getDataStore().revertToOriginal()"
   ]
  },
  {
   "cell_type": "markdown",
   "metadata": {},
   "source": [
    "SMOTE, SMOTEENN and RandomOverSampler produces the best results so far. Let's evaluate those them on our test set."
   ]
  },
  {
   "cell_type": "code",
   "execution_count": 13,
   "metadata": {},
   "outputs": [
    {
     "name": "stdout",
     "output_type": "stream",
     "text": [
      "Random OverSampler on test set:\n",
      "F1 score: 0.14326107445805844\n",
      "ROC_AUC score: 0.8097009156137511\n",
      "Balanced accuracy score: 0.8097009156137511\n",
      "\n",
      "\n",
      "SMOTE on test set:\n",
      "F1 score: 0.14212248714352502\n",
      "ROC_AUC score: 0.8096324660369305\n",
      "Balanced accuracy score: 0.8096324660369305\n",
      "\n",
      "\n",
      "SMOTE ENN on test set:\n",
      "F1 score: 0.10788643533123028\n",
      "ROC_AUC score: 0.8451410363265931\n",
      "Balanced accuracy score: 0.8451410363265931\n",
      "\n",
      "\n"
     ]
    }
   ],
   "source": [
    "random = SampledDataStore.getRandomSampled\n",
    "smote = SampledDataStore.getSMOTESampled\n",
    "smote_enn = SampledDataStore.getSMOTEENNSampled\n",
    "samplers = [random, smote, smote_enn]\n",
    "sampler_names = [\"Random OverSampler\", \"SMOTE\", \"SMOTE ENN\"]\n",
    "\n",
    "classifier = LogisticRegression()\n",
    "\n",
    "for i in range(len(samplers)):\n",
    "    parameters = {'class_weight':[{0:1,1:10}]}\n",
    "    X_resampled, y_resampled = samplers[i]()\n",
    "    GridSpace.getDataStore().setxTrain(X_resampled)\n",
    "    GridSpace.getDataStore().setyTrain(y_resampled) \n",
    "    GridSpace.setGridParameters(parameters)\n",
    "    GridSpace.setClassifier(classifier)\n",
    "    grid = GridSpace.run()\n",
    "    y_preds = grid.predict(GridSpace.getDataStore().getxTest())\n",
    "    print(f\"{sampler_names[i]} on test set:\")\n",
    "    print(f\"F1 score: {f1_score(GridSpace.getDataStore().getyTest(), y_preds)}\")\n",
    "    print(f\"ROC_AUC score: {roc_auc_score(GridSpace.getDataStore().getyTest(), y_preds)}\")\n",
    "    print(f\"Balanced accuracy score: {balanced_accuracy_score(GridSpace.getDataStore().getyTest(), y_preds)}\")\n",
    "    print(\"\\n\")\n",
    "    \n",
    "GridSpace.getDataStore().revertToOriginal()"
   ]
  },
  {
   "cell_type": "markdown",
   "metadata": {},
   "source": [
    "Logistic regression predicts the class probabilities for each sample and decides class based on a threshold (default: 0.5). We can also check if a different threshold value produces better results.\n",
    "\n",
    "Ref: https://machinelearningmastery.com/threshold-moving-for-imbalanced-classification/\n",
    "\n",
    "Let's define the relevant functions first."
   ]
  },
  {
   "cell_type": "code",
   "execution_count": 14,
   "metadata": {},
   "outputs": [],
   "source": [
    "import numpy as np\n",
    "from sklearn.model_selection import RepeatedStratifiedKFold\n",
    "from sklearn.linear_model import LogisticRegressionCV\n",
    "\n",
    "def trainAndgetProbabilities(xTrain, yTrain, xTest):\n",
    "    rskf = RepeatedStratifiedKFold(n_splits=10, n_repeats=2, random_state=42)\n",
    "    model = LogisticRegressionCV(cv=rskf, class_weight=[{0: 1, 1: 10}])\n",
    "    model.fit(xTrain, yTrain)\n",
    "    return model.predict_proba(xTest)[:,1]\n",
    "\n",
    "def convert_probs(probs, threshold):\n",
    "    return (probs >= threshold).astype('int')"
   ]
  },
  {
   "cell_type": "code",
   "execution_count": 15,
   "metadata": {},
   "outputs": [
    {
     "name": "stdout",
     "output_type": "stream",
     "text": [
      "\n",
      "Random Oversampling on test set:\n",
      "Maxiziming F1 Score:\n",
      "Threshold: 0.996, F1 Score: 0.30316742081447967, ROC AUC: 0.6390397631644643\n",
      "Maxiziming ROC-AUC Score:\n",
      "Threshold: 0.048, F1 Score: 0.030894055234826023, ROC AUC: 0.8626526022918528\n",
      "\n",
      "SMOTE on test set:\n",
      "Maxiziming F1 Score:\n",
      "Threshold: 0.996, F1 Score: 0.30316742081447967, ROC AUC: 0.6390397631644643\n",
      "Maxiziming ROC-AUC Score:\n",
      "Threshold: 0.056, F1 Score: 0.08689424683695392, ROC AUC: 0.8639990457323702\n",
      "\n",
      "SMOTE ENN on test set:\n",
      "Maxiziming F1 Score:\n",
      "Threshold: 0.993, F1 Score: 0.27439886845827444, ROC AUC: 0.7005935484260625\n",
      "Maxiziming ROC-AUC Score:\n",
      "Threshold: 0.036000000000000004, F1 Score: 0.042553191489361694, ROC AUC: 0.8805897132365377\n"
     ]
    }
   ],
   "source": [
    "from datastore import DataStore\n",
    "\n",
    "Data = DataStore()\n",
    "random = SampledDataStore.getRandomSampled\n",
    "smote = SampledDataStore.getSMOTESampled\n",
    "smote_enn = SampledDataStore.getSMOTEENNSampled\n",
    "samplers = [random, smote, smote_enn]\n",
    "sampler_names = [\"Random Oversampling\", \"SMOTE\", \"SMOTE ENN\"]\n",
    "thresholds = np.arange(0, 1, 0.001)\n",
    "\n",
    "for i in range(len(samplers)):\n",
    "    X_resampled, y_resampled = samplers[i]()\n",
    "    probs = trainAndgetProbabilities(X_resampled, y_resampled, Data.getxTest())\n",
    "    f1_scores = [f1_score(Data.getyTest(), convert_probs(probs, t)) for t in thresholds]\n",
    "    roc_scores = [roc_auc_score(Data.getyTest(), convert_probs(probs, t)) for t in thresholds]\n",
    "    maxf1Index = np.argmax(f1_scores)\n",
    "    maxrocIndex = np.argmax(roc_scores)\n",
    "    print(f\"\\n{sampler_names[i]} on test set:\")\n",
    "    print(\"Maxiziming F1 Score:\")\n",
    "    print(f\"Threshold: {thresholds[maxf1Index]}, F1 Score: {f1_scores[maxf1Index]}, ROC AUC: {roc_scores[maxf1Index]}\")\n",
    "    print(\"Maxiziming ROC-AUC Score:\")\n",
    "    print(f\"Threshold: {thresholds[maxrocIndex]}, F1 Score: {f1_scores[maxrocIndex]}, ROC AUC: {roc_scores[maxrocIndex]}\")"
   ]
  },
  {
   "cell_type": "markdown",
   "metadata": {},
   "source": [
    "Better, but not ideal. The difference in ROC_AUC score points to the problem; The higher threshold value causes the model to predict smaller number of samples to be positive (true positive or false positive), resulting in lower ROC AUC and a higher F1 score.\n",
    "\n",
    "Overall, our results are better than the baseline model, but not ideal. Perhaps, we can achieve better results with a more complex (non-linear) model. Let's try SVM next."
   ]
  }
 ],
 "metadata": {
  "kernelspec": {
   "display_name": "Python 3",
   "language": "python",
   "name": "python3"
  },
  "language_info": {
   "codemirror_mode": {
    "name": "ipython",
    "version": 3
   },
   "file_extension": ".py",
   "mimetype": "text/x-python",
   "name": "python",
   "nbconvert_exporter": "python",
   "pygments_lexer": "ipython3",
   "version": "3.7.6"
  }
 },
 "nbformat": 4,
 "nbformat_minor": 4
}
