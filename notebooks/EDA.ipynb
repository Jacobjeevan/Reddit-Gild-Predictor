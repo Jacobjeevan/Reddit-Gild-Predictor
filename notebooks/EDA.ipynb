{
 "cells": [
  {
   "cell_type": "code",
   "execution_count": 4,
   "metadata": {
    "scrolled": true
   },
   "outputs": [],
   "source": [
    "import pandas as pd"
   ]
  },
  {
   "cell_type": "code",
   "execution_count": 5,
   "metadata": {
    "scrolled": true
   },
   "outputs": [
    {
     "name": "stderr",
     "output_type": "stream",
     "text": [
      "/usr/lib/python3.8/site-packages/IPython/core/interactiveshell.py:3062: DtypeWarning: Columns (0,2,3) have mixed types. Specify dtype option on import or set low_memory=False.\n",
      "  has_raised = await self.run_ast_nodes(code_ast.body, cell_name,\n",
      "/usr/lib/python3.8/site-packages/IPython/core/interactiveshell.py:3062: DtypeWarning: Columns (1) have mixed types. Specify dtype option on import or set low_memory=False.\n",
      "  has_raised = await self.run_ast_nodes(code_ast.body, cell_name,\n"
     ]
    }
   ],
   "source": [
    "org_author_data = pd.read_csv(\"../data/original_data/author_data.csv\")\n",
    "org_comment_data = pd.read_csv(\"../data/original_data/comment_data.csv\")\n",
    "org_gilds_data = pd.read_csv(\"../data/original_data/gildings_data.csv\")\n",
    "author_data = pd.read_csv(\"../data/data/raw/author_data.csv\")\n",
    "comment_data = pd.read_csv(\"../data/data/raw/comment_data.csv\")\n",
    "gilds_data = pd.read_csv(\"../data/data/raw/gildings_data.csv\")"
   ]
  },
  {
   "cell_type": "code",
   "execution_count": 16,
   "metadata": {
    "scrolled": true
   },
   "outputs": [],
   "source": [
    "author_data_merged = pd.concat([org_author_data, author_data], ignore_index=True)\n",
    "comment_data_merged = pd.concat([org_comment_data, comment_data], ignore_index=True)\n",
    "gilds_data_merged = pd.concat([org_gilds_data, gilds_data], ignore_index=True)"
   ]
  },
  {
   "cell_type": "code",
   "execution_count": 22,
   "metadata": {},
   "outputs": [
    {
     "data": {
      "text/html": [
       "<div>\n",
       "<style scoped>\n",
       "    .dataframe tbody tr th:only-of-type {\n",
       "        vertical-align: middle;\n",
       "    }\n",
       "\n",
       "    .dataframe tbody tr th {\n",
       "        vertical-align: top;\n",
       "    }\n",
       "\n",
       "    .dataframe thead th {\n",
       "        text-align: right;\n",
       "    }\n",
       "</style>\n",
       "<table border=\"1\" class=\"dataframe\">\n",
       "  <thead>\n",
       "    <tr style=\"text-align: right;\">\n",
       "      <th></th>\n",
       "      <th>author_ids</th>\n",
       "      <th>comment_karma</th>\n",
       "      <th>link_karma</th>\n",
       "      <th>created_utc</th>\n",
       "      <th>is_premium</th>\n",
       "    </tr>\n",
       "  </thead>\n",
       "  <tbody>\n",
       "    <tr>\n",
       "      <th>0</th>\n",
       "      <td>d73zv</td>\n",
       "      <td>111624</td>\n",
       "      <td>3942</td>\n",
       "      <td>1.379473e+09</td>\n",
       "      <td>False</td>\n",
       "    </tr>\n",
       "    <tr>\n",
       "      <th>1</th>\n",
       "      <td>1b8t8i5</td>\n",
       "      <td>44347</td>\n",
       "      <td>689</td>\n",
       "      <td>1.494972e+09</td>\n",
       "      <td>False</td>\n",
       "    </tr>\n",
       "    <tr>\n",
       "      <th>2</th>\n",
       "      <td>xa1p6</td>\n",
       "      <td>101101</td>\n",
       "      <td>14946</td>\n",
       "      <td>1.461016e+09</td>\n",
       "      <td>False</td>\n",
       "    </tr>\n",
       "    <tr>\n",
       "      <th>3</th>\n",
       "      <td>5u4v8</td>\n",
       "      <td>189307</td>\n",
       "      <td>97587</td>\n",
       "      <td>1.315722e+09</td>\n",
       "      <td>True</td>\n",
       "    </tr>\n",
       "    <tr>\n",
       "      <th>4</th>\n",
       "      <td>3sxf8q36</td>\n",
       "      <td>25181</td>\n",
       "      <td>1115</td>\n",
       "      <td>1.558327e+09</td>\n",
       "      <td>False</td>\n",
       "    </tr>\n",
       "    <tr>\n",
       "      <th>...</th>\n",
       "      <td>...</td>\n",
       "      <td>...</td>\n",
       "      <td>...</td>\n",
       "      <td>...</td>\n",
       "      <td>...</td>\n",
       "    </tr>\n",
       "    <tr>\n",
       "      <th>703875</th>\n",
       "      <td>zu6vf</td>\n",
       "      <td>16601</td>\n",
       "      <td>939</td>\n",
       "      <td>1.469571e+09</td>\n",
       "      <td>False</td>\n",
       "    </tr>\n",
       "    <tr>\n",
       "      <th>703876</th>\n",
       "      <td>7mp0x</td>\n",
       "      <td>261924</td>\n",
       "      <td>133522</td>\n",
       "      <td>1.336090e+09</td>\n",
       "      <td>False</td>\n",
       "    </tr>\n",
       "    <tr>\n",
       "      <th>703877</th>\n",
       "      <td>6k9dd</td>\n",
       "      <td>54103</td>\n",
       "      <td>13348</td>\n",
       "      <td>1.325481e+09</td>\n",
       "      <td>False</td>\n",
       "    </tr>\n",
       "    <tr>\n",
       "      <th>703878</th>\n",
       "      <td>12h108</td>\n",
       "      <td>3793</td>\n",
       "      <td>133</td>\n",
       "      <td>1.477811e+09</td>\n",
       "      <td>False</td>\n",
       "    </tr>\n",
       "    <tr>\n",
       "      <th>703879</th>\n",
       "      <td>ispne</td>\n",
       "      <td>12407</td>\n",
       "      <td>2</td>\n",
       "      <td>1.412973e+09</td>\n",
       "      <td>False</td>\n",
       "    </tr>\n",
       "  </tbody>\n",
       "</table>\n",
       "<p>703880 rows × 5 columns</p>\n",
       "</div>"
      ],
      "text/plain": [
       "       author_ids  comment_karma  link_karma   created_utc  is_premium\n",
       "0           d73zv         111624        3942  1.379473e+09       False\n",
       "1         1b8t8i5          44347         689  1.494972e+09       False\n",
       "2           xa1p6         101101       14946  1.461016e+09       False\n",
       "3           5u4v8         189307       97587  1.315722e+09        True\n",
       "4        3sxf8q36          25181        1115  1.558327e+09       False\n",
       "...           ...            ...         ...           ...         ...\n",
       "703875      zu6vf          16601         939  1.469571e+09       False\n",
       "703876      7mp0x         261924      133522  1.336090e+09       False\n",
       "703877      6k9dd          54103       13348  1.325481e+09       False\n",
       "703878     12h108           3793         133  1.477811e+09       False\n",
       "703879      ispne          12407           2  1.412973e+09       False\n",
       "\n",
       "[703880 rows x 5 columns]"
      ]
     },
     "execution_count": 22,
     "metadata": {},
     "output_type": "execute_result"
    }
   ],
   "source": [
    "author_data_merged"
   ]
  },
  {
   "cell_type": "markdown",
   "metadata": {},
   "source": [
    "For author data, we drop the duplicate entries (and keep the very last entry). This is because the last entry will be the most recent.\n",
    "\n",
    "For the other files, we simply merge.\n",
    "\n",
    "Note: For data collection, author data was only collected once within each csv file (i.e. the data may have changed during scraping)."
   ]
  },
  {
   "cell_type": "code",
   "execution_count": 23,
   "metadata": {},
   "outputs": [
    {
     "name": "stdout",
     "output_type": "stream",
     "text": [
      "703880\n",
      "577708\n"
     ]
    }
   ],
   "source": [
    "print(len(author_data_merged))\n",
    "print(len(author_data_merged.drop_duplicates(subset = 'author_ids', keep='last')))"
   ]
  }
 ],
 "metadata": {
  "kernelspec": {
   "display_name": "Python 3.8.2 64-bit",
   "language": "python",
   "name": "python38264bitd0a67fcebf384632a971473ff943e4ed"
  },
  "language_info": {
   "codemirror_mode": {
    "name": "ipython",
    "version": 3
   },
   "file_extension": ".py",
   "mimetype": "text/x-python",
   "name": "python",
   "nbconvert_exporter": "python",
   "pygments_lexer": "ipython3",
   "version": "3.8.2"
  }
 },
 "nbformat": 4,
 "nbformat_minor": 2
}
